{
 "cells": [
  {
   "cell_type": "code",
   "execution_count": 1,
   "metadata": {},
   "outputs": [
    {
     "name": "stdout",
     "output_type": "stream",
     "text": [
      "[104, 101, 108, 108, 111]\n",
      "['Lorem', 'ipsum', 'dolor', 'sit', 'amet', 'consectetur', 'adipiscing', 'elit', 'Sed', 'quis', 'metus', 'a', 'nisl', 'vestibulum', 'tristique', 'Phasellus', 'vel', 'nulla', 'non', 'quam', 'interdum', 'convallis']\n",
      "hello world\n"
     ]
    }
   ],
   "source": [
    "from tokenizer import tokenizer\n",
    "\n",
    "tok = tokenizer.BPE()\n",
    "\n",
    "\n",
    "encoded = tok.encode(\"hello\")\n",
    "\n",
    "print(encoded)\n",
    "\n",
    "# Output: [104, 101, 108, 108, 111]\n",
    "\n",
    "lipsum = \"Lorem ipsum dolor sit amet, consectetur adipiscing elit. Sed quis metus a nisl vestibulum tristique. Phasellus vel nulla non quam interdum convallis.\"\n",
    "print(tok.parallel_word_tokenizer(lipsum))\n",
    "\n",
    "# Output: ['Lorem', 'ipsum', 'dolor', 'sit', 'amet', 'consectetur', 'adipiscing', 'elit', 'Sed', 'quis', 'metus', 'a', 'nisl', 'vestibulum', 'tristique', 'Phasellus', 'vel', 'nulla', 'non', 'quam', 'interdum', 'convallis']\n",
    " \n",
    "\n",
    "vocab_size = 276 # the desired final vocabulary size\n",
    "num_merges = vocab_size - 256\n",
    "\n",
    "tok.learn_ids(lipsum,num_merges)\n",
    "\n",
    "print(tok.decode(tok.encode(\"hello world\")))\n",
    "# Output: 'hello world'"
   ]
  }
 ],
 "metadata": {
  "kernelspec": {
   "display_name": "venv",
   "language": "python",
   "name": "python3"
  },
  "language_info": {
   "codemirror_mode": {
    "name": "ipython",
    "version": 3
   },
   "file_extension": ".py",
   "mimetype": "text/x-python",
   "name": "python",
   "nbconvert_exporter": "python",
   "pygments_lexer": "ipython3",
   "version": "3.11.9"
  }
 },
 "nbformat": 4,
 "nbformat_minor": 2
}
