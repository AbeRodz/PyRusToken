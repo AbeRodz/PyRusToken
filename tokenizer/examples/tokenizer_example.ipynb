{
 "cells": [
  {
   "cell_type": "code",
   "execution_count": null,
   "metadata": {},
   "outputs": [],
   "source": [
    "from tokenizer import tokenizer\n",
    "\n",
    "tok = tokenizer.BPE()\n",
    "\n",
    "\n",
    "encoded = tok.encode(\"hello\")\n",
    "\n",
    "print(encoded)\n",
    "\n",
    "# Output: [104, 101, 108, 108, 111]\n",
    "\n",
    "lipsum = \"Lorem ipsum dolor sit amet, consectetur adipiscing elit. Sed quis metus a nisl vestibulum tristique. Phasellus vel nulla non quam interdum convallis.\"\n",
    "print(tok.parallel_word_tokenizer(lipsum))\n",
    "\n",
    "# Output: ['Lorem', 'ipsum', 'dolor', 'sit', 'amet', 'consectetur', 'adipiscing', 'elit', 'Sed', 'quis', 'metus', 'a', 'nisl', 'vestibulum', 'tristique', 'Phasellus', 'vel', 'nulla', 'non', 'quam', 'interdum', 'convallis']\n",
    " \n",
    "\n",
    "vocab_size = 276 # the desired final vocabulary size\n",
    "num_merges = vocab_size - 256\n",
    "\n",
    "tok.learn_ids(lipsum,num_merges)\n",
    "\n",
    "print(tok.decode(tok.encode(\"hello world\")))\n",
    "# Output: 'hello world'"
   ]
  }
 ],
 "metadata": {
  "language_info": {
   "name": "python"
  }
 },
 "nbformat": 4,
 "nbformat_minor": 2
}
